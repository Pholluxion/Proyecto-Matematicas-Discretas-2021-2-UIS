{
  "nbformat": 4,
  "nbformat_minor": 0,
  "metadata": {
    "colab": {
      "name": "MD_PROJECT.ipynb",
      "provenance": [],
      "collapsed_sections": []
    },
    "kernelspec": {
      "name": "python3",
      "display_name": "Python 3"
    },
    "language_info": {
      "name": "python"
    }
  },
  "cells": [
    {
      "cell_type": "markdown",
      "source": [
        "#**Chat en tiempo real cifrado de extremo a extremo**\n",
        "## Proyecto para la asignatura de Matemáticas Discretas 2021-2\n",
        "## *Carlos Daniel Peñaloza Torres (**2172336**)*\n",
        "## Escuela de Ingeniería de Sistemas e Informática\n",
        "## **Universidad Industrial de Santander**\n",
        "\n",
        "\n",
        "[![View source on GitHub](https://www.tensorflow.org/images/GitHub-Mark-32px.png)](https://github.com/Pholluxion/Proyecto-Matematicas-Discretas-2021-2-UIS)\n",
        "\n",
        "[![Open In Colab](https://colab.research.google.com/assets/colab-badge.svg)](https://colab.research.google.com/drive/1VGYDxumPWhJehM4PupyyUnzDnkFFUeNd#scrollTo=d3TR083TrrxI)\n"
      ],
      "metadata": {
        "id": "d3TR083TrrxI"
      }
    },
    {
      "cell_type": "code",
      "execution_count": null,
      "metadata": {
        "id": "2DeyEwaaItre"
      },
      "outputs": [],
      "source": [
        "from google.colab import files\n",
        "\n",
        "with open('requirements.txt', 'w') as f:\n",
        "  f.write('''cffi==1.15.0\n",
        "cryptography==36.0.1\n",
        "pycparser==2.21\n",
        "''')\n"
      ]
    },
    {
      "cell_type": "markdown",
      "source": [
        ""
      ],
      "metadata": {
        "id": "IWyW86eDlqv1"
      }
    },
    {
      "cell_type": "code",
      "source": [
        "!pip install -r requirements.txt"
      ],
      "metadata": {
        "id": "v7UFoCrFJG0b"
      },
      "execution_count": null,
      "outputs": []
    },
    {
      "cell_type": "markdown",
      "source": [
        ""
      ],
      "metadata": {
        "id": "xfzzt5DzlrvM"
      }
    },
    {
      "cell_type": "code",
      "source": [
        "from cryptography.hazmat.primitives.asymmetric import padding\n",
        "from cryptography.hazmat.primitives.asymmetric import rsa\n",
        "from cryptography.hazmat.primitives import serialization\n",
        "from cryptography.hazmat.primitives import hashes\n",
        "from cryptography.hazmat.backends import default_backend\n",
        "\n",
        "\n",
        "class User:\n",
        "\n",
        "    username = None\n",
        "    private_key = None\n",
        "    public_key  = None\n",
        "\n",
        "    def __init__(self):\n",
        "\n",
        "        self.private_key = rsa.generate_private_key(\n",
        "                public_exponent=65537,\n",
        "                key_size=2048,\n",
        "                backend=default_backend()\n",
        "            )\n",
        "        self.public_key  = self.private_key.public_key()\n",
        "\n",
        "\n",
        "    def getPrivateKey(self):\n",
        "\n",
        "        pem = self.private_key.private_bytes(\n",
        "            encoding=serialization.Encoding.PEM,\n",
        "            format=serialization.PrivateFormat.PKCS8,\n",
        "            encryption_algorithm=serialization.NoEncryption()   \n",
        "            )\n",
        "        return pem\n",
        "\n",
        "    def getPublicKey(self):\n",
        "\n",
        "        pem = self.public_key.public_bytes(\n",
        "            encoding=serialization.Encoding.PEM,\n",
        "            format=serialization.PublicFormat.SubjectPublicKeyInfo\n",
        "        )\n",
        "        return pem\n",
        "\n",
        "    def encryptMessage(self,message:str , pk):\n",
        "        \n",
        "        encrypted =  pk.encrypt(\n",
        "                message.encode('UTF-8'),\n",
        "                padding.OAEP(\n",
        "                    mgf=padding.MGF1(algorithm=hashes.SHA256()),\n",
        "                    algorithm=hashes.SHA256(),\n",
        "                    label=None\n",
        "                )\n",
        "            )\n",
        "        return encrypted\n",
        "\n",
        "    def decryptMessage(self,message):\n",
        "\n",
        "        original_message = self.private_key.decrypt(\n",
        "            message,\n",
        "            padding.OAEP(\n",
        "                mgf=padding.MGF1(algorithm=hashes.SHA256()),\n",
        "                algorithm=hashes.SHA256(),\n",
        "                label=None\n",
        "            )\n",
        "        )\n",
        "        return original_message\n",
        "        \n",
        "\n"
      ],
      "metadata": {
        "id": "AS1aI_H_JYtK"
      },
      "execution_count": null,
      "outputs": []
    },
    {
      "cell_type": "markdown",
      "source": [
        ""
      ],
      "metadata": {
        "id": "CQKlsjTEls01"
      }
    },
    {
      "cell_type": "code",
      "source": [
        "\n",
        "if __name__ == \"__main__\":\n",
        "\n",
        "    user =  User()\n",
        "    user.username = 'Daniel'\n",
        "\n",
        "    user2 = User()\n",
        "    user.username = 'Juan'\n",
        "\n",
        "    message = \"Hola Juan\"\n",
        "\n",
        "    messageEncripted = user.encryptMessage(message=message,pk=user2.public_key)\n",
        "\n",
        "    print(\"Mensaje encriptado\\n\\n\" ,messageEncripted)\n",
        "\n",
        "    messageDecripted = user2.decryptMessage(message=messageEncripted)\n",
        "\n",
        "    print(\"\\n\\nMensaje desencriptado\\n\\n\",messageDecripted.decode(\"UTF-8\"))\n"
      ],
      "metadata": {
        "colab": {
          "base_uri": "https://localhost:8080/"
        },
        "id": "eWKWcLjQJa7p",
        "outputId": "c869615d-f6d2-4b08-8353-0dabfa28e1c3"
      },
      "execution_count": null,
      "outputs": [
        {
          "output_type": "stream",
          "name": "stdout",
          "text": [
            "Mensaje encriptado\n",
            "\n",
            " b'y\"\\x00\\x17\\xd7Y\\xf3g\\\\\\x04h\\xfbln\\xb3\\xeb00M\\xf1\\x94\\xadF\\xbf\\x11$\\xa85\\xd1\\x07\\xe7T\\xe1\\xacd\\x0e]\\x96\\xc9F\\xb8\\x12\\xd5\\x92sU\\xcbu9\\xde\\x9d\\xb3\\x8a\\xbe\\xe1\\xb0\\xc3\\x04\\xa7\\xe6T\\xe2\\xb6\\x1c\\x00z^\\x962\\xd0\\xea\\xb5\\xe8\\xab\\x14-^\\xf7E\\\\\\xa6\\x85~Db\\x8e\\x12\\xaf\\xd0\\xb19\\'E\\xce\\xa1\\x15\\xf4;U\\xc9\\x80\\r\\x1dF|:\\'\\x9bu&.V\\x14\\xb6\\x0f\\x14\\x9f\\xa8\\xf3a\\xad}U<F\\x82g(\\xee\\xa4_N\\xdaZ\\x06\\xc4\\xe9&\\x994\\x0b\\xfb`f\\x9d@\\x94n \\xd1\\xa5\\xdb1\\x93\\xb4\\x80\\xb1!\\xb8\\x17\\x8c\\xe3\\r\\x9f\\xba\\xdf\\\\\\n\\xb6\\xd3\\xc5\\x06\\x82R\\x8b\\xac\\xe8\\xbb`\\x97\\xe1\\xc9g\\xe9\\xc1\\xac\\xbd]Q\\xa7\\xbe\\xc7\\x86\\xa5\\xd4\\xe1\\xa2\\xfa\\xecz\\x8e\\x1a@\\x05;\\x01P\\xa5\\xbe\\x14b\\x1c8i+37\\xafA#\\xad\\xa2\\x1d\\x98\\'z4k\\xa3T\\xa9\\xb4\\xdc$\\x0cX\\xe5!\\xab5f\\x95\\xeb,\\x99\\xc2\\x8er\\x93\\x08\\x07\\xf3\\xbe{B*'\n",
            "\n",
            "\n",
            "Mensaje desencriptado\n",
            "\n",
            " Hola Juan\n"
          ]
        }
      ]
    },
    {
      "cell_type": "markdown",
      "source": [
        ""
      ],
      "metadata": {
        "id": "7jw7OrkwlteN"
      }
    },
    {
      "cell_type": "markdown",
      "source": [
        "# Sección nueva"
      ],
      "metadata": {
        "id": "_C8yv9CgIy1B"
      }
    }
  ]
}